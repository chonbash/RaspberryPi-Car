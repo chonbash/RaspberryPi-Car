{
 "cells": [
  {
   "cell_type": "markdown",
   "metadata": {},
   "source": [
    "<center><img src=\"../../logo.png\" alt=\"Header\" style=\"width: 800px;\"/></center>"
   ]
  },
  {
   "cell_type": "markdown",
   "metadata": {},
   "source": [
    "\n",
    "@Copyright (C): 2010-2020, Shenzhen Yahboom Tech  \n",
    "@Author: Liusen  \n",
    "@Date: 2020-02-09 17:20:02  \n",
    "@LastEditors: Liusen  \n",
    "@LastEditTime: 2020-02-11 18:20:02   "
   ]
  },
  {
   "cell_type": "code",
   "execution_count": 1,
   "metadata": {},
   "outputs": [],
   "source": [
    "#bgr8转jpeg格式\n",
    "import enum\n",
    "import cv2\n",
    "\n",
    "def bgr8_to_jpeg(value, quality=75):\n",
    "    return bytes(cv2.imencode('.jpg', value)[1])"
   ]
  },
  {
   "cell_type": "code",
   "execution_count": 2,
   "metadata": {},
   "outputs": [
    {
     "data": {
      "application/vnd.jupyter.widget-view+json": {
       "model_id": "a40863a3ca734c1e9658528784d4506e",
       "version_major": 2,
       "version_minor": 0
      },
      "text/plain": [
       "Image(value=b'', format='jpeg', height='240', width='320')"
      ]
     },
     "metadata": {},
     "output_type": "display_data"
    }
   ],
   "source": [
    "#摄像头显示组件\n",
    "import cv2\n",
    "import ipywidgets.widgets as widgets\n",
    "import threading\n",
    "import time\n",
    "import sys\n",
    "\n",
    "image_widget = widgets.Image(format='jpeg', width=320, height=240)\n",
    "display(image_widget)"
   ]
  },
  {
   "cell_type": "code",
   "execution_count": 3,
   "metadata": {
    "scrolled": true
   },
   "outputs": [],
   "source": [
    "image = cv2.VideoCapture(0)\n",
    "image.set(3,320)\n",
    "image.set(4,240)\n",
    "ret, frame = image.read()\n",
    "image_widget.value = bgr8_to_jpeg(frame)"
   ]
  },
  {
   "cell_type": "code",
   "execution_count": 4,
   "metadata": {},
   "outputs": [],
   "source": [
    "# 线程功能操作库\n",
    "import inspect\n",
    "import ctypes\n",
    "def _async_raise(tid, exctype):\n",
    "    \"\"\"raises the exception, performs cleanup if needed\"\"\"\n",
    "    tid = ctypes.c_long(tid)\n",
    "    if not inspect.isclass(exctype):\n",
    "        exctype = type(exctype)\n",
    "    res = ctypes.pythonapi.PyThreadState_SetAsyncExc(tid, ctypes.py_object(exctype))\n",
    "    if res == 0:\n",
    "        raise ValueError(\"invalid thread id\")\n",
    "    elif res != 1:\n",
    "        # \"\"\"if it returns a number greater than one, you're in trouble,\n",
    "        # and you should call it again with exc=NULL to revert the effect\"\"\"\n",
    "        ctypes.pythonapi.PyThreadState_SetAsyncExc(tid, None)\n",
    "        \n",
    "def stop_thread(thread):\n",
    "    _async_raise(thread.ident, SystemExit)"
   ]
  },
  {
   "cell_type": "markdown",
   "metadata": {},
   "source": []
  },
  {
   "cell_type": "markdown",
   "metadata": {},
   "source": [
    "@ 人脸检测器（默认）：haarcascade_frontalface_default.xml  \n",
    "@ 人脸检测器（快速Harr）：haarcascade_frontalface_alt2.xml   \n",
    "@ 人脸检测器（侧视）：haarcascade_profileface.xml   \n",
    "@ 眼部检测器（左眼）：haarcascade_lefteye_2splits.xml  \n",
    "@ 眼部检测器（右眼）：haarcascade_righteye_2splits.xml   \n",
    "@ 嘴部检测器：haarcascade_mcs_mouth.xml  \n",
    "@ 鼻子检测器：haarcascade_mcs_nose.xml  \n",
    "@ 身体检测器：haarcascade_fullbody.xml  \n",
    "@ 人脸检测器（快速LBP）：lbpcascade_frontalface.xml  \n",
    "\n",
    "@ 仅可以检测睁开的眼睛：  \n",
    "@ haarcascade_eye.xml  \n",
    "@ haarcascade_eye_tree_eyeglasses.xml [仅在带被检测者戴眼镜时方可检测]  \n",
    "@ https://github.com/opencv/opencv/tree/master/data  下载分类器文件位置  \n",
    "@ 注意以下返回值都是四个：坐标X，坐标Y，宽W，高H  \n"
   ]
  },
  {
   "cell_type": "code",
   "execution_count": 5,
   "metadata": {
    "scrolled": true
   },
   "outputs": [],
   "source": [
    "# body_haar = cv2.CascadeClassifier(\"haarcascade_upperbody.xml\")\n",
    "# face_haar = cv2.CascadeClassifier(\"haarcascade_profileface.xml\") \n",
    "face_haar = cv2.CascadeClassifier(\"haarcascade_fullbody.xml\")\n",
    "#eye_haar = cv2.CascadeClassifier(\"haarcascade_eye.xml\")  \n",
    "eye_haar = cv2.CascadeClassifier(\"haarcascade_eye_tree_eyeglasses.xml\")  \n",
    "def Camera_display():\n",
    "    while 1:\n",
    "        ret, frame = image.read()\n",
    "        # 把图像转为黑白图像\n",
    "        gray_img = cv2.cvtColor(frame, cv2.COLOR_BGR2GRAY)\n",
    "#         # 检测图像中的所有行人\n",
    "#         bodies = body_haar.detectMultiScale(gray_img, 1.3, 5)\n",
    "#         for body_x,body_y,body_w,body_h in bodies:\n",
    "#             cv2.rectangle(frame, (body_x, body_y), (body_x+body_w, body_y+body_h), (0,255,0), 2)\n",
    "\n",
    "# detectMultiScale（const Mat& image, vector& objects, double scaleFactor=1.1，int minNeighbors, int flag，cvSize）\n",
    "# 1. image为输入的灰度图像\n",
    "# 2. objects为得到被检测物体的矩形框向量组\n",
    "# 3. scaleFactor为每一个图像尺度中的尺度参数，默认值为1.1。scale_factor参数可以决定两个不同大小的窗口扫描之间有多大的跳跃，这个参数设置的大，则意味着计算会变快，但如果窗口错过了某个大小的人脸，则可能丢失物体。\n",
    "# 4. minNeighbors参数为每一个级联矩形应该保留的邻近个数（没能理解这个参数，-_-|||），默认为3。minNeighbors控制着误检测，默认值为3表明至少有3次重叠检测，我们才认为人脸确实存。\n",
    "# 5. minSize为目标的最小尺寸\n",
    "# 6. minSize为目标的最大尺寸\n",
    "\n",
    "\n",
    "        faces = face_haar.detectMultiScale(gray_img, 1.1, 3)\n",
    "        for face_x,face_y,face_w,face_h in faces:\n",
    "            cv2.rectangle(frame, (face_x, face_y), (face_x+face_w, face_y+face_h), (0,255,0), 2)\n",
    "            \n",
    "        eyes = eye_haar.detectMultiScale(gray_img, 1.1, 3)\n",
    "        for eye_x,eye_y,eye_w,eye_h in eyes:\n",
    "            cv2.rectangle(frame, (eye_x,eye_y), (eye_x+eye_w, eye_y+eye_h), (255,0,0), 2)\n",
    "        \n",
    "#         eyes = eye_haar.detectMultiScale(gray_img, 1.3, 5)\n",
    "#         for eye_x,eye_y,eye_w,eye_h in eyes:\n",
    "#             cv2.rectangle(frame, (eye_x,eye_y), (eye_x+eye_w, eye_y+eye_h), (255,0,0), 2)\n",
    "    \n",
    "        image_widget.value = bgr8_to_jpeg(frame)\n",
    "        time.sleep(0.010)"
   ]
  },
  {
   "cell_type": "code",
   "execution_count": 6,
   "metadata": {
    "scrolled": true
   },
   "outputs": [],
   "source": [
    "#启动线程\n",
    "thread1 = threading.Thread(target=Camera_display)\n",
    "thread1.setDaemon(True)\n",
    "thread1.start()"
   ]
  },
  {
   "cell_type": "code",
   "execution_count": 7,
   "metadata": {
    "scrolled": true
   },
   "outputs": [],
   "source": [
    "#结束进程，释放摄像头，需要结束时执行\n",
    "stop_thread(thread1)\n",
    "image.release()"
   ]
  },
  {
   "cell_type": "code",
   "execution_count": 8,
   "metadata": {},
   "outputs": [],
   "source": []
  }
 ],
 "metadata": {
  "kernelspec": {
   "display_name": "Python 3",
   "language": "python",
   "name": "python3"
  },
  "language_info": {
   "codemirror_mode": {
    "name": "ipython",
    "version": 3
   },
   "file_extension": ".py",
   "mimetype": "text/x-python",
   "name": "python",
   "nbconvert_exporter": "python",
   "pygments_lexer": "ipython3",
   "version": "3.7.3"
  }
 },
 "nbformat": 4,
 "nbformat_minor": 4
}
